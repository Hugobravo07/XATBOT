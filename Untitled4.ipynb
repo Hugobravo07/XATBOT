{
  "nbformat": 4,
  "nbformat_minor": 0,
  "metadata": {
    "colab": {
      "provenance": [],
      "authorship_tag": "ABX9TyMWfbYHsiTHB5gMWwz9gxFx",
      "include_colab_link": true
    },
    "kernelspec": {
      "name": "python3",
      "display_name": "Python 3"
    },
    "language_info": {
      "name": "python"
    }
  },
  "cells": [
    {
      "cell_type": "markdown",
      "metadata": {
        "id": "view-in-github",
        "colab_type": "text"
      },
      "source": [
        "<a href=\"https://colab.research.google.com/github/Hugobravo07/XATBOT/blob/main/Untitled4.ipynb\" target=\"_parent\"><img src=\"https://colab.research.google.com/assets/colab-badge.svg\" alt=\"Open In Colab\"/></a>"
      ]
    },
    {
      "cell_type": "code",
      "execution_count": 1,
      "metadata": {
        "id": "_8QD-Vb8tNRk",
        "colab": {
          "base_uri": "https://localhost:8080/",
          "height": 332
        },
        "outputId": "aebfbf3a-b230-456d-f2ed-1fd3ca4de650"
      },
      "outputs": [
        {
          "output_type": "error",
          "ename": "SecretNotFoundError",
          "evalue": "Secret GOOGLE_API_KEY does not exist.",
          "traceback": [
            "\u001b[0;31m---------------------------------------------------------------------------\u001b[0m",
            "\u001b[0;31mSecretNotFoundError\u001b[0m                       Traceback (most recent call last)",
            "\u001b[0;32m<ipython-input-1-501f3f9b96b1>\u001b[0m in \u001b[0;36m<cell line: 0>\u001b[0;34m()\u001b[0m\n\u001b[1;32m     10\u001b[0m \u001b[0;31m# CONFIGURACIÓ DE L'API\u001b[0m\u001b[0;34m\u001b[0m\u001b[0;34m\u001b[0m\u001b[0m\n\u001b[1;32m     11\u001b[0m \u001b[0;31m# ==============================\u001b[0m\u001b[0;34m\u001b[0m\u001b[0;34m\u001b[0m\u001b[0m\n\u001b[0;32m---> 12\u001b[0;31m \u001b[0mGOOGLE_API_KEY\u001b[0m \u001b[0;34m=\u001b[0m \u001b[0muserdata\u001b[0m\u001b[0;34m.\u001b[0m\u001b[0mget\u001b[0m\u001b[0;34m(\u001b[0m\u001b[0;34m\"GOOGLE_API_KEY\"\u001b[0m\u001b[0;34m)\u001b[0m\u001b[0;34m\u001b[0m\u001b[0;34m\u001b[0m\u001b[0m\n\u001b[0m\u001b[1;32m     13\u001b[0m \u001b[0;32mif\u001b[0m \u001b[0;32mnot\u001b[0m \u001b[0mGOOGLE_API_KEY\u001b[0m\u001b[0;34m:\u001b[0m\u001b[0;34m\u001b[0m\u001b[0;34m\u001b[0m\u001b[0m\n\u001b[1;32m     14\u001b[0m     \u001b[0mprint\u001b[0m\u001b[0;34m(\u001b[0m\u001b[0;34m\"⚠️ No s'ha trobat la clau API.\"\u001b[0m\u001b[0;34m)\u001b[0m\u001b[0;34m\u001b[0m\u001b[0;34m\u001b[0m\u001b[0m\n",
            "\u001b[0;32m/usr/local/lib/python3.11/dist-packages/google/colab/userdata.py\u001b[0m in \u001b[0;36mget\u001b[0;34m(key)\u001b[0m\n\u001b[1;32m     66\u001b[0m     \u001b[0;32mraise\u001b[0m \u001b[0mTimeoutException\u001b[0m\u001b[0;34m(\u001b[0m\u001b[0mkey\u001b[0m\u001b[0;34m)\u001b[0m\u001b[0;34m\u001b[0m\u001b[0;34m\u001b[0m\u001b[0m\n\u001b[1;32m     67\u001b[0m   \u001b[0;32mif\u001b[0m \u001b[0;32mnot\u001b[0m \u001b[0mresp\u001b[0m\u001b[0;34m.\u001b[0m\u001b[0mget\u001b[0m\u001b[0;34m(\u001b[0m\u001b[0;34m'exists'\u001b[0m\u001b[0;34m,\u001b[0m \u001b[0;32mFalse\u001b[0m\u001b[0;34m)\u001b[0m\u001b[0;34m:\u001b[0m\u001b[0;34m\u001b[0m\u001b[0;34m\u001b[0m\u001b[0m\n\u001b[0;32m---> 68\u001b[0;31m     \u001b[0;32mraise\u001b[0m \u001b[0mSecretNotFoundError\u001b[0m\u001b[0;34m(\u001b[0m\u001b[0mkey\u001b[0m\u001b[0;34m)\u001b[0m\u001b[0;34m\u001b[0m\u001b[0;34m\u001b[0m\u001b[0m\n\u001b[0m\u001b[1;32m     69\u001b[0m   \u001b[0;32mif\u001b[0m \u001b[0;32mnot\u001b[0m \u001b[0mresp\u001b[0m\u001b[0;34m.\u001b[0m\u001b[0mget\u001b[0m\u001b[0;34m(\u001b[0m\u001b[0;34m'access'\u001b[0m\u001b[0;34m,\u001b[0m \u001b[0;32mFalse\u001b[0m\u001b[0;34m)\u001b[0m\u001b[0;34m:\u001b[0m\u001b[0;34m\u001b[0m\u001b[0;34m\u001b[0m\u001b[0m\n\u001b[1;32m     70\u001b[0m     \u001b[0;32mraise\u001b[0m \u001b[0mNotebookAccessError\u001b[0m\u001b[0;34m(\u001b[0m\u001b[0mkey\u001b[0m\u001b[0;34m)\u001b[0m\u001b[0;34m\u001b[0m\u001b[0;34m\u001b[0m\u001b[0m\n",
            "\u001b[0;31mSecretNotFoundError\u001b[0m: Secret GOOGLE_API_KEY does not exist."
          ]
        }
      ],
      "source": [
        "# La primera vegada, desmarca la línia de sota per a instal·lar les biblioteques\n",
        "# !pip install -U google-genai beautifulsoup4 requests\n",
        "\n",
        "from google import genai\n",
        "from google.colab import userdata\n",
        "import requests\n",
        "from bs4 import BeautifulSoup\n",
        "\n",
        "# ==============================\n",
        "# CONFIGURACIÓ DE L'API\n",
        "# ==============================\n",
        "GOOGLE_API_KEY = userdata.get(\"GOOGLE_API_KEY\")\n",
        "if not GOOGLE_API_KEY:\n",
        "    print(\"⚠️ No s'ha trobat la clau API.\")\n",
        "    exit()\n",
        "\n",
        "# Crear el client\n",
        "client = genai.Client(api_key=GOOGLE_API_KEY)\n",
        "\n",
        "# ==============================\n",
        "# INSTRUCCIONS DEL SISTEMA\n",
        "# ==============================\n",
        "system_instruction = \"\"\"\n",
        "Ets un assistent d'intel·ligència artificial dissenyat per ajudar els usuaris de manera clara, precisa i educada.\n",
        "Proporciona respostes concretes i senzilles per facilitar la comprensió.\n",
        "\"\"\"\n",
        "\n",
        "# Crear una sessió de xat\n",
        "chat = client.chats.create(\n",
        "    model=\"gemini-2.0-flash\",\n",
        "    config=genai.types.GenerateContentConfig(\n",
        "        system_instruction=system_instruction,\n",
        "        temperature=0.7,\n",
        "        max_output_tokens=200\n",
        "    )\n",
        ")\n",
        "\n",
        "# ==============================\n",
        "# Funció de web scraping\n",
        "# ==============================\n",
        "def fer_scraping(url):\n",
        "    try:\n",
        "        resposta = requests.get(url)\n",
        "        resposta.raise_for_status()\n",
        "        sopa = BeautifulSoup(resposta.text, 'html.parser')\n",
        "        return sopa.get_text()\n",
        "    except requests.exceptions.RequestException as e:\n",
        "        return f\"⚠️ Error en fer el scraping: {e}\"\n",
        "\n",
        "# ==============================\n",
        "# BUCLE DEL XAT\n",
        "# ==============================\n",
        "print(\"\\n💬 XatBot activat! Escriu 'sortir' per acabar la conversa.\\n\")\n",
        "\n",
        "while True:\n",
        "    try:\n",
        "        prompt = input(\"👤 Usuari: \").strip()\n",
        "\n",
        "        if prompt.lower() == \"sortir\":\n",
        "            print(\"👋 XatBot: Fins aviat!\")\n",
        "            break\n",
        "\n",
        "        if prompt.startswith(\"scrapejar \"):\n",
        "            url = prompt.split(\" \", 1)[1]\n",
        "            resultat = fer_scraping(url)\n",
        "            if resultat.startswith(\"⚠️\"):\n",
        "                print(resultat)\n",
        "            else:\n",
        "                resposta = chat.send_message(f\"Resumeix aquest text: {resultat[:3000]}\")  # Limita la longitud del text\n",
        "                print(f\"🕷️ Scraping complet i analitzat: \\n{resposta.text.strip()}\\n\")\n",
        "        else:\n",
        "            resposta = chat.send_message(prompt)\n",
        "            print(f\"🤖 XatBot: {resposta.text.strip()}\\n\")\n",
        "\n",
        "    except Exception as e:\n",
        "        print(f\"⚠️ Error: {e}\")"
      ]
    }
  ]
}